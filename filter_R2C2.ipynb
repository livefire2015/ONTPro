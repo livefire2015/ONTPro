{
 "metadata": {
  "language_info": {
   "codemirror_mode": {
    "name": "ipython",
    "version": 3
   },
   "file_extension": ".py",
   "mimetype": "text/x-python",
   "name": "python",
   "nbconvert_exporter": "python",
   "pygments_lexer": "ipython3",
   "version": "3.8.7-final"
  },
  "orig_nbformat": 2,
  "kernelspec": {
   "name": "python3",
   "display_name": "Python 3.8.7 64-bit ('3.8.7')",
   "metadata": {
    "interpreter": {
     "hash": "12318e0207e9b4dfdc3718ba657e3797e97203f8968ea8cfc9edc9fe58dc38bb"
    }
   }
  }
 },
 "nbformat": 4,
 "nbformat_minor": 2,
 "cells": [
  {
   "source": [
    "# DataFrame from R2C2 Consensus fasta\n",
    "## Example usage: create a dataframe from input, output a csv for all headers, output a fasta with filtered reads\n",
    "python dataframe_R2C2.py -i R2C2_Consensus.fasta -o output\n",
    "\n",
    "## More details below"
   ],
   "cell_type": "code",
   "metadata": {},
   "execution_count": null,
   "outputs": []
  },
  {
   "source": [
    "## Some import\n",
    "import numpy as np\n",
    "import pandas as pd\n",
    "import matplotlib.pyplot as plt\n",
    "from fileio_R2C2 import parse_args_R2C2, read_fasta, df_to_csv, df_to_fasta"
   ],
   "cell_type": "code",
   "metadata": {},
   "execution_count": null,
   "outputs": []
  },
  {
   "source": [
    "## The columns of our DataFrame, per C3POa\n",
    "\n",
    "cols = 'readName_averageQuality_originalReadLength_numberOfRepeats_subreadLength'.split('_') + ['sequence']"
   ],
   "cell_type": "code",
   "metadata": {},
   "execution_count": null,
   "outputs": []
  },
  {
   "cell_type": "code",
   "execution_count": null,
   "metadata": {},
   "outputs": [],
   "source": [
    "## Create a dict from fasta file\n",
    "input_fasta = 'R2C2_Consensus.fasta'\n",
    "output_path = 'output/'\n",
    "reads = read_fasta(input_fasta)"
   ]
  },
  {
   "cell_type": "code",
   "execution_count": null,
   "metadata": {},
   "outputs": [],
   "source": [
    "## Create a dataframe from the dict above\n",
    "def reads_to_df(reads):\n",
    "    print('construct a dataframe from reads dict, columns are:')\n",
    "    readsData = [k[1:].split('_') + [reads[k]] for k in reads]\n",
    "    print(cols)\n",
    "    df = pd.DataFrame(readsData, columns=cols, dtype='string')\n",
    "    df['averageQuality'] = pd.to_numeric(df['averageQuality'])\n",
    "    df['originalReadLength'] = pd.to_numeric(df['originalReadLength'])\n",
    "    df['numberOfRepeats'] = pd.to_numeric(df['numberOfRepeats'])\n",
    "    df['subreadLength'] = pd.to_numeric(df['subreadLength'])\n",
    "    return df\n",
    "\n",
    "df = reads_to_df(reads)\n",
    "## The readName and sequence columns are string, while the rest are numbers"
   ]
  },
  {
   "cell_type": "code",
   "execution_count": null,
   "metadata": {},
   "outputs": [],
   "source": [
    "## Output all headers to a csv\n",
    "df_to_csv(df.iloc[:, :-1], output_path + \"R2C2_Consensus_headers.csv\")"
   ]
  },
  {
   "cell_type": "code",
   "execution_count": null,
   "metadata": {},
   "outputs": [],
   "source": [
    "## Filter the dataframe, e.g. numberOfRepeats >= 3\n",
    "def filter_df(df):\n",
    "    filter_ = df['numberOfRepeats'] >= 3\n",
    "    return df[filter_]\n",
    "\n",
    "## Combine ~, &, |, ^ to express your filter criteria, e.g. \n",
    "# df['numberOfRepeats'] >= 3 & df['averageQuality'] >= 50"
   ]
  },
  {
   "cell_type": "code",
   "execution_count": null,
   "metadata": {},
   "outputs": [],
   "source": [
    "## Output the filtered dataframe to a fasta\n",
    "dff = filter_df(df)\n",
    "df_to_fasta(dff, output_path + \"R2C2_Consensus_filtered_numberOfRepeats_greater_3.fasta\")"
   ]
  }
 ]
}